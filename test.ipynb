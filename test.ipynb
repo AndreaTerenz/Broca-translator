{
 "cells": [
  {
   "cell_type": "code",
   "execution_count": 24,
   "metadata": {},
   "outputs": [],
   "source": [
    "import pandas as pd\n",
    "import numpy as np\n",
    "import numpy.random as rnd\n",
    "import matplotlib.pyplot as plt\n",
    "import string\n",
    "import nltk\n",
    "from nltk.corpus import stopwords, gutenberg"
   ]
  },
  {
   "cell_type": "code",
   "execution_count": 28,
   "metadata": {},
   "outputs": [
    {
     "data": {
      "text/plain": [
       "True"
      ]
     },
     "execution_count": 28,
     "metadata": {},
     "output_type": "execute_result"
    }
   ],
   "source": [
    "nltk.download('gutenberg', quiet=True)\n",
    "nltk.download('punkt', quiet=True)\n",
    "nltk.download('stopwords', quiet=True)"
   ]
  },
  {
   "cell_type": "code",
   "execution_count": 2,
   "metadata": {},
   "outputs": [],
   "source": [
    "random_state = 111111\n",
    "rnd.seed(random_state)"
   ]
  },
  {
   "cell_type": "code",
   "execution_count": 3,
   "metadata": {},
   "outputs": [],
   "source": [
    "def histplot(df: pd.DataFrame, bins=60, column=None, xlabel=None, ylabel=\"Frequency\", title=None, **plot_args):\n",
    "    if column is None:\n",
    "        column = df.columns[0]\n",
    "\n",
    "    if xlabel is None:\n",
    "        xlabel = column\n",
    "\n",
    "    if title is None:\n",
    "        title = f'Distribution of {column}'\n",
    "\n",
    "    # Create a histogram to visualize the distribution of sentence lengths\n",
    "    plt.hist(df[column], bins=bins, **plot_args)\n",
    "    plt.xlabel(xlabel)\n",
    "    plt.ylabel(ylabel)\n",
    "    plt.title(title)\n",
    "    plt.show()"
   ]
  },
  {
   "cell_type": "code",
   "execution_count": 4,
   "metadata": {},
   "outputs": [
    {
     "data": {
      "text/html": [
       "<div>\n",
       "<style scoped>\n",
       "    .dataframe tbody tr th:only-of-type {\n",
       "        vertical-align: middle;\n",
       "    }\n",
       "\n",
       "    .dataframe tbody tr th {\n",
       "        vertical-align: top;\n",
       "    }\n",
       "\n",
       "    .dataframe thead th {\n",
       "        text-align: right;\n",
       "    }\n",
       "</style>\n",
       "<table border=\"1\" class=\"dataframe\">\n",
       "  <thead>\n",
       "    <tr style=\"text-align: right;\">\n",
       "      <th></th>\n",
       "      <th>sentences</th>\n",
       "    </tr>\n",
       "  </thead>\n",
       "  <tbody>\n",
       "    <tr>\n",
       "      <th>count</th>\n",
       "      <td>28806</td>\n",
       "    </tr>\n",
       "    <tr>\n",
       "      <th>unique</th>\n",
       "      <td>28806</td>\n",
       "    </tr>\n",
       "    <tr>\n",
       "      <th>top</th>\n",
       "      <td>Children who spend more time outdoors have a l...</td>\n",
       "    </tr>\n",
       "    <tr>\n",
       "      <th>freq</th>\n",
       "      <td>1</td>\n",
       "    </tr>\n",
       "  </tbody>\n",
       "</table>\n",
       "</div>"
      ],
      "text/plain": [
       "                                                sentences\n",
       "count                                               28806\n",
       "unique                                              28806\n",
       "top     Children who spend more time outdoors have a l...\n",
       "freq                                                    1"
      ]
     },
     "execution_count": 4,
     "metadata": {},
     "output_type": "execute_result"
    }
   ],
   "source": [
    "df = pd.read_csv(\"eng_sents.csv\", names=[\"sentences\"])\n",
    "df.describe()"
   ]
  },
  {
   "cell_type": "markdown",
   "metadata": {},
   "source": [
    "## Preprocessing"
   ]
  },
  {
   "cell_type": "markdown",
   "metadata": {},
   "source": [
    "The longest (by number of words) sentences are unrealistic so we do a two-step filter:\n",
    "\n",
    "1. Remove sentences longer than some fixed threshold $L_{max} := 400$ \n",
    "2. Of those remaining, keep only those who are in the $p := 0.8$ fraction closest to the median\n",
    "3. Of those remaining, keep a randomly selected subset of size $s := 4000$"
   ]
  },
  {
   "cell_type": "code",
   "execution_count": 5,
   "metadata": {},
   "outputs": [
    {
     "data": {
      "text/plain": [
       "count    28806.000000\n",
       "mean        74.371589\n",
       "std         64.679002\n",
       "min          3.000000\n",
       "25%         30.000000\n",
       "50%         48.000000\n",
       "75%        103.000000\n",
       "max        855.000000\n",
       "Name: sent-len, dtype: float64"
      ]
     },
     "execution_count": 5,
     "metadata": {},
     "output_type": "execute_result"
    }
   ],
   "source": [
    "df[\"sent-len\"] = df[\"sentences\"].apply(len)\n",
    "df[\"sent-len\"].describe()"
   ]
  },
  {
   "cell_type": "code",
   "execution_count": 6,
   "metadata": {},
   "outputs": [
    {
     "data": {
      "image/png": "[encoded data removed]",
      "text/plain": [
       "<Figure size 640x480 with 1 Axes>"
      ]
     },
     "metadata": {},
     "output_type": "display_data"
    }
   ],
   "source": [
    "histplot(df, column=\"sent-len\", xlabel=\"Length\", edgecolor=\"k\")"
   ]
  },
  {
   "cell_type": "code",
   "execution_count": 7,
   "metadata": {},
   "outputs": [],
   "source": [
    "Lmin = 10\n",
    "Lmax = 300\n",
    "df1 = df[df[\"sent-len\"].between(Lmin, Lmax, inclusive=\"both\")]"
   ]
  },
  {
   "cell_type": "code",
   "execution_count": 8,
   "metadata": {},
   "outputs": [
    {
     "data": {
      "text/plain": [
       "count    28528.000000\n",
       "mean        71.957095\n",
       "std         58.032531\n",
       "min         10.000000\n",
       "25%         30.000000\n",
       "50%         48.000000\n",
       "75%        101.000000\n",
       "max        300.000000\n",
       "Name: sent-len, dtype: float64"
      ]
     },
     "execution_count": 8,
     "metadata": {},
     "output_type": "execute_result"
    }
   ],
   "source": [
    "df1[\"sent-len\"].describe()"
   ]
  },
  {
   "cell_type": "code",
   "execution_count": 9,
   "metadata": {},
   "outputs": [
    {
     "data": {
      "image/png": "[encoded data removed]",
      "text/plain": [
       "<Figure size 640x480 with 1 Axes>"
      ]
     },
     "metadata": {},
     "output_type": "display_data"
    }
   ],
   "source": [
    "histplot(df1, bins=100, column=\"sent-len\", xlabel=\"Length\", edgecolor=\"k\")"
   ]
  },
  {
   "cell_type": "code",
   "execution_count": 10,
   "metadata": {},
   "outputs": [
    {
     "name": "stderr",
     "output_type": "stream",
     "text": [
      "C:\\Users\\andre\\AppData\\Local\\Temp\\ipykernel_19904\\1359016915.py:6: SettingWithCopyWarning: \n",
      "A value is trying to be set on a copy of a slice from a DataFrame.\n",
      "Try using .loc[row_indexer,col_indexer] = value instead\n",
      "\n",
      "See the caveats in the documentation: https://pandas.pydata.org/pandas-docs/stable/user_guide/indexing.html#returning-a-view-versus-a-copy\n",
      "  df1['len-diff'] = abs(df1['sent-len'] - med_len)\n"
     ]
    },
    {
     "data": {
      "text/plain": [
       "22822"
      ]
     },
     "execution_count": 10,
     "metadata": {},
     "output_type": "execute_result"
    }
   ],
   "source": [
    "p=0.8\n",
    "total_left = len(df1)\n",
    "to_extract = int(p * total_left)\n",
    "\n",
    "med_len = df1[\"sent-len\"].median()\n",
    "df1['len-diff'] = abs(df1['sent-len'] - med_len)\n",
    "df2 = df1.sort_values(by=\"len-diff\").head(n=to_extract)\n",
    "\n",
    "len(df2)"
   ]
  },
  {
   "cell_type": "code",
   "execution_count": 11,
   "metadata": {},
   "outputs": [
    {
     "data": {
      "text/plain": [
       "count    22822.000000\n",
       "mean        47.221102\n",
       "std         26.363422\n",
       "min         10.000000\n",
       "25%         27.000000\n",
       "50%         39.000000\n",
       "75%         62.000000\n",
       "max        117.000000\n",
       "Name: sent-len, dtype: float64"
      ]
     },
     "execution_count": 11,
     "metadata": {},
     "output_type": "execute_result"
    }
   ],
   "source": [
    "df2[\"sent-len\"].describe()"
   ]
  },
  {
   "cell_type": "code",
   "execution_count": 12,
   "metadata": {},
   "outputs": [
    {
     "data": {
      "image/png": "[encoded data removed]",
      "text/plain": [
       "<Figure size 640x480 with 1 Axes>"
      ]
     },
     "metadata": {},
     "output_type": "display_data"
    }
   ],
   "source": [
    "histplot(df2, bins=100, column=\"sent-len\", xlabel=\"Length\", edgecolor=\"k\")"
   ]
  },
  {
   "cell_type": "code",
   "execution_count": 13,
   "metadata": {},
   "outputs": [
    {
     "data": {
      "text/html": [
       "<div>\n",
       "<style scoped>\n",
       "    .dataframe tbody tr th:only-of-type {\n",
       "        vertical-align: middle;\n",
       "    }\n",
       "\n",
       "    .dataframe tbody tr th {\n",
       "        vertical-align: top;\n",
       "    }\n",
       "\n",
       "    .dataframe thead th {\n",
       "        text-align: right;\n",
       "    }\n",
       "</style>\n",
       "<table border=\"1\" class=\"dataframe\">\n",
       "  <thead>\n",
       "    <tr style=\"text-align: right;\">\n",
       "      <th></th>\n",
       "      <th>sentences</th>\n",
       "    </tr>\n",
       "  </thead>\n",
       "  <tbody>\n",
       "    <tr>\n",
       "      <th>count</th>\n",
       "      <td>4000</td>\n",
       "    </tr>\n",
       "    <tr>\n",
       "      <th>unique</th>\n",
       "      <td>4000</td>\n",
       "    </tr>\n",
       "    <tr>\n",
       "      <th>top</th>\n",
       "      <td>It's a popular song based off of something Rab...</td>\n",
       "    </tr>\n",
       "    <tr>\n",
       "      <th>freq</th>\n",
       "      <td>1</td>\n",
       "    </tr>\n",
       "  </tbody>\n",
       "</table>\n",
       "</div>"
      ],
      "text/plain": [
       "                                                sentences\n",
       "count                                                4000\n",
       "unique                                               4000\n",
       "top     It's a popular song based off of something Rab...\n",
       "freq                                                    1"
      ]
     },
     "execution_count": 13,
     "metadata": {},
     "output_type": "execute_result"
    }
   ],
   "source": [
    "data = df2[\"sentences\"].sample(n=4000, random_state=random_state).to_frame()\n",
    "data.describe()"
   ]
  },
  {
   "cell_type": "code",
   "execution_count": 14,
   "metadata": {},
   "outputs": [
    {
     "data": {
      "text/html": [
       "<div>\n",
       "<style scoped>\n",
       "    .dataframe tbody tr th:only-of-type {\n",
       "        vertical-align: middle;\n",
       "    }\n",
       "\n",
       "    .dataframe tbody tr th {\n",
       "        vertical-align: top;\n",
       "    }\n",
       "\n",
       "    .dataframe thead th {\n",
       "        text-align: right;\n",
       "    }\n",
       "</style>\n",
       "<table border=\"1\" class=\"dataframe\">\n",
       "  <thead>\n",
       "    <tr style=\"text-align: right;\">\n",
       "      <th></th>\n",
       "      <th>sentences</th>\n",
       "    </tr>\n",
       "  </thead>\n",
       "  <tbody>\n",
       "    <tr>\n",
       "      <th>14812</th>\n",
       "      <td>It's a popular song based off of something Rab...</td>\n",
       "    </tr>\n",
       "    <tr>\n",
       "      <th>18724</th>\n",
       "      <td>Tom is learning Krav Maga.</td>\n",
       "    </tr>\n",
       "    <tr>\n",
       "      <th>16937</th>\n",
       "      <td>You are welcome, Ravi.</td>\n",
       "    </tr>\n",
       "    <tr>\n",
       "      <th>7040</th>\n",
       "      <td>I'm named after my late grandfather.</td>\n",
       "    </tr>\n",
       "    <tr>\n",
       "      <th>13170</th>\n",
       "      <td>Have you seen my highlighter?</td>\n",
       "    </tr>\n",
       "  </tbody>\n",
       "</table>\n",
       "</div>"
      ],
      "text/plain": [
       "                                               sentences\n",
       "14812  It's a popular song based off of something Rab...\n",
       "18724                         Tom is learning Krav Maga.\n",
       "16937                             You are welcome, Ravi.\n",
       "7040                I'm named after my late grandfather.\n",
       "13170                      Have you seen my highlighter?"
      ]
     },
     "execution_count": 14,
     "metadata": {},
     "output_type": "execute_result"
    }
   ],
   "source": [
    "data.head()"
   ]
  },
  {
   "cell_type": "markdown",
   "metadata": {},
   "source": [
    "## (pseudo-)Aphasic text generation"
   ]
  },
  {
   "cell_type": "markdown",
   "metadata": {},
   "source": [
    "### N-gram model\n",
    "\n",
    "Creation of an n-gram character LM from text for word variant scoring"
   ]
  },
  {
   "cell_type": "code",
   "execution_count": 77,
   "metadata": {},
   "outputs": [],
   "source": [
    "src_title = \"melville-moby_dick.txt\""
   ]
  },
  {
   "cell_type": "code",
   "execution_count": 87,
   "metadata": {},
   "outputs": [
    {
     "name": "stdout",
     "output_type": "stream",
     "text": [
      "['[', 'M', 'o', 'b', 'y', 'D', 'i', 'c', 'k', 'b', 'y', 'H', 'e', 'r', 'm', 'a', 'n', 'M', 'e', 'l', 'v', 'i', 'l', 'l', 'e', '1', '8', '5', '1', ']']\n",
      "['E', 'T', 'Y', 'M', 'O', 'L', 'O', 'G', 'Y', '.']\n",
      "['(', 'S', 'u', 'p', 'p', 'l', 'i', 'e', 'd', 'b', 'y', 'a', 'L', 'a', 't', 'e', 'C', 'o', 'n', 's', 'u', 'm', 'p', 't', 'i', 'v', 'e', 'U', 's', 'h', 'e', 'r', 't', 'o', 'a', 'G', 'r', 'a', 'm', 'm', 'a', 'r', 'S', 'c', 'h', 'o', 'o', 'l', ')']\n",
      "['T', 'h', 'e', 'p', 'a', 'l', 'e', 'U', 's', 'h', 'e', 'r', '-', '-', 't', 'h', 'r', 'e', 'a', 'd', 'b', 'a', 'r', 'e', 'i', 'n', 'c', 'o', 'a', 't', ',', 'h', 'e', 'a', 'r', 't', ',', 'b', 'o', 'd', 'y', ',', 'a', 'n', 'd', 'b', 'r', 'a', 'i', 'n', ';', 'I', 's', 'e', 'e', 'h', 'i', 'm', 'n', 'o', 'w', '.']\n",
      "['H', 'e', 'w', 'a', 's', 'e', 'v', 'e', 'r', 'd', 'u', 's', 't', 'i', 'n', 'g', 'h', 'i', 's', 'o', 'l', 'd', 'l', 'e', 'x', 'i', 'c', 'o', 'n', 's', 'a', 'n', 'd', 'g', 'r', 'a', 'm', 'm', 'a', 'r', 's', ',', 'w', 'i', 't', 'h', 'a', 'q', 'u', 'e', 'e', 'r', 'h', 'a', 'n', 'd', 'k', 'e', 'r', 'c', 'h', 'i', 'e', 'f', ',', 'm', 'o', 'c', 'k', 'i', 'n', 'g', 'l', 'y', 'e', 'm', 'b', 'e', 'l', 'l', 'i', 's', 'h', 'e', 'd', 'w', 'i', 't', 'h', 'a', 'l', 'l', 't', 'h', 'e', 'g', 'a', 'y', 'f', 'l', 'a', 'g', 's', 'o', 'f', 'a', 'l', 'l', 't', 'h', 'e', 'k', 'n', 'o', 'w', 'n', 'n', 'a', 't', 'i', 'o', 'n', 's', 'o', 'f', 't', 'h', 'e', 'w', 'o', 'r', 'l', 'd', '.']\n",
      "['H', 'e', 'l', 'o', 'v', 'e', 'd', 't', 'o', 'd', 'u', 's', 't', 'h', 'i', 's', 'o', 'l', 'd', 'g', 'r', 'a', 'm', 'm', 'a', 'r', 's', ';', 'i', 't', 's', 'o', 'm', 'e', 'h', 'o', 'w', 'm', 'i', 'l', 'd', 'l', 'y', 'r', 'e', 'm', 'i', 'n', 'd', 'e', 'd', 'h', 'i', 'm', 'o', 'f', 'h', 'i', 's', 'm', 'o', 'r', 't', 'a', 'l', 'i', 't', 'y', '.']\n",
      "['\"', 'W', 'h', 'i', 'l', 'e', 'y', 'o', 'u', 't', 'a', 'k', 'e', 'i', 'n', 'h', 'a', 'n', 'd', 't', 'o', 's', 'c', 'h', 'o', 'o', 'l', 'o', 't', 'h', 'e', 'r', 's', ',', 'a', 'n', 'd', 't', 'o', 't', 'e', 'a', 'c', 'h', 't', 'h', 'e', 'm', 'b', 'y', 'w', 'h', 'a', 't', 'n', 'a', 'm', 'e', 'a', 'w', 'h', 'a', 'l', 'e', '-', 'f', 'i', 's', 'h', 'i', 's', 't', 'o', 'b', 'e', 'c', 'a', 'l', 'l', 'e', 'd', 'i', 'n', 'o', 'u', 'r', 't', 'o', 'n', 'g', 'u', 'e', 'l', 'e', 'a', 'v', 'i', 'n', 'g', 'o', 'u', 't', ',', 't', 'h', 'r', 'o', 'u', 'g', 'h', 'i', 'g', 'n', 'o', 'r', 'a', 'n', 'c', 'e', ',', 't', 'h', 'e', 'l', 'e', 't', 't', 'e', 'r', 'H', ',', 'w', 'h', 'i', 'c', 'h', 'a', 'l', 'm', 'o', 's', 't', 'a', 'l', 'o', 'n', 'e', 'm', 'a', 'k', 'e', 't', 'h', 't', 'h', 'e', 's', 'i', 'g', 'n', 'i', 'f', 'i', 'c', 'a', 't', 'i', 'o', 'n', 'o', 'f', 't', 'h', 'e', 'w', 'o', 'r', 'd', ',', 'y', 'o', 'u', 'd', 'e', 'l', 'i', 'v', 'e', 'r', 't', 'h', 'a', 't', 'w', 'h', 'i', 'c', 'h', 'i', 's', 'n', 'o', 't', 't', 'r', 'u', 'e', '.', '\"']\n",
      "['-', '-', 'H', 'A', 'C', 'K', 'L', 'U', 'Y', 'T']\n",
      "['\"', 'W', 'H', 'A', 'L', 'E', '.']\n",
      "['.', '.', '.', 'S', 'w', '.', 'a', 'n', 'd', 'D', 'a', 'n', '.']\n"
     ]
    }
   ],
   "source": [
    "source_sents = gutenberg.sents(src_title)\n",
    "source_sents = [[c for w in s for c in w] for s in source_sents]\n",
    "\n",
    "print(*source_sents[:10], sep=\"\\n\")"
   ]
  },
  {
   "cell_type": "code",
   "execution_count": 113,
   "metadata": {},
   "outputs": [],
   "source": [
    "# Create an N-gram model of the source text\n",
    "from nltk.lm.preprocessing import padded_everygram_pipeline\n",
    "\n",
    "n_gram_size = 4\n",
    "\n",
    "train, vocab = padded_everygram_pipeline(n_gram_size, source_sents)"
   ]
  },
  {
   "cell_type": "code",
   "execution_count": 133,
   "metadata": {},
   "outputs": [],
   "source": [
    "from nltk.lm.smoothing import Smoothing\n",
    "\n",
    "#TODO: Actually implement Katz smoothing (somehow)\n",
    "class KatzSmoothing(Smoothing):\n",
    "    def __init__(self, vocabulary, count, gamma=0.5):\n",
    "        super().__init__(vocabulary, count)\n",
    "        self.gamma = gamma\n",
    "\n",
    "    def unigram_score(self, word, context=None):\n",
    "        return self.gamma / self.counts[0]\n",
    "\n",
    "    def alpha_gamma(self, word, context):\n",
    "        return self.gamma\n",
    "\n",
    "    def discount(self):\n",
    "        return self.gamma\n",
    "\n",
    "    def __str__(self):\n",
    "        return f\"KatzSmoothing(gamma={self.gamma})\""
   ]
  },
  {
   "cell_type": "code",
   "execution_count": 114,
   "metadata": {},
   "outputs": [],
   "source": [
    "from nltk.lm import MLE\n",
    "\n",
    "mle = MLE(n_gram_size)"
   ]
  },
  {
   "cell_type": "code",
   "execution_count": 115,
   "metadata": {},
   "outputs": [],
   "source": [
    "mle.fit(text=train, vocabulary_text=vocab)"
   ]
  },
  {
   "cell_type": "code",
   "execution_count": 116,
   "metadata": {},
   "outputs": [
    {
     "data": {
      "text/plain": [
       "['i', 's', 'h', 'i', 'g']"
      ]
     },
     "execution_count": 116,
     "metadata": {},
     "output_type": "execute_result"
    }
   ],
   "source": [
    "mle.generate(5)"
   ]
  },
  {
   "cell_type": "markdown",
   "metadata": {},
   "source": [
    "### Data generation"
   ]
  },
  {
   "cell_type": "code",
   "execution_count": 117,
   "metadata": {},
   "outputs": [],
   "source": [
    "def insert_rand_char(word, charset=string.ascii_lowercase):\n",
    "    l = len(word)\n",
    "    idx = rnd.randint(l)\n",
    "    char_idx = rnd.randint(len(charset))\n",
    "    char = charset[char_idx]\n",
    "\n",
    "    return f\"{word[:idx]}{char}{word[idx:]}\"\n",
    "\n",
    "def delete_rand_char(word):\n",
    "    l = len(word)\n",
    "    idx = rnd.randint(l)\n",
    "\n",
    "    return f\"{word[:idx]}{word[idx+1:]}\"\n",
    "\n",
    "def swap_rand_chars(word):\n",
    "    l = len(word)\n",
    "    if l < 2:\n",
    "        return word\n",
    "\n",
    "    idx1, idx2 = sorted(rnd.choice(range(l), size=2, replace=False))\n",
    "\n",
    "    c1, c2 = word[idx1], word[idx2]\n",
    "\n",
    "    return f\"{word[:idx1]}{c2}{word[idx1+1:idx2]}{c1}{word[idx2+1:]}\"\n",
    "\n",
    "def alter_word(word, n_changes=1):\n",
    "    changes = rnd.choice([\"I\", \"D\", \"S\"], size=n_changes)\n",
    "    iscapitalized = word[0].isupper()\n",
    "\n",
    "    output = word\n",
    "    for i in range(n_changes):\n",
    "        if changes[i] == \"I\":\n",
    "            output = insert_rand_char(output)\n",
    "        elif changes[i] == \"D\":\n",
    "            output = delete_rand_char(output)\n",
    "        elif changes[i] == \"S\":\n",
    "            output = swap_rand_chars(output)\n",
    "            \n",
    "    if iscapitalized:\n",
    "        output = output.capitalize()\n",
    "\n",
    "    return output"
   ]
  },
  {
   "cell_type": "code",
   "execution_count": 118,
   "metadata": {},
   "outputs": [
    {
     "data": {
      "text/plain": [
       "'ceiaone'"
      ]
     },
     "execution_count": 118,
     "metadata": {},
     "output_type": "execute_result"
    }
   ],
   "source": [
    "alter_word(\"ciaone\")"
   ]
  },
  {
   "cell_type": "code",
   "execution_count": 128,
   "metadata": {},
   "outputs": [],
   "source": [
    "def score_variant(variant, context):\n",
    "    variant_chars = [c for c in variant]\n",
    "    context_chars = [c for c in context]\n",
    "\n",
    "    \"\"\"scores = [mle.logscore(vc, cc) for vc, cc in zip(variant_chars, context_chars)]\n",
    "\n",
    "    return sum(scores) / len(variant)\"\"\"\n",
    "\n",
    "    return mle.logscore(variant_chars, context_chars)\n",
    "\n",
    "def get_best_variant(word, context, var_count=10, max_iter=20):\n",
    "    variants = [\"\"] * var_count\n",
    "    scores = [0.] * var_count\n",
    "\n",
    "    for i in range(var_count):\n",
    "        for _ in range(max_iter):\n",
    "            new_var = alter_word(word)\n",
    "            if not new_var in variants:\n",
    "                variants[i] = new_var\n",
    "                scores[i] = score_variant(new_var, context)\n",
    "                break\n",
    "\n",
    "    selected = np.argmax(scores)\n",
    "\n",
    "    return variants[selected]\n",
    "\n",
    "def alter_sentence(sent, p=0.4, ng_size = n_gram_size, var_count=10):\n",
    "    output = \"\"\n",
    "    #TODO: Should probably tokenize better with nltk instead of just splitting on spaces\n",
    "    words = sent.split(\" \")\n",
    "    current_idx = 0\n",
    "\n",
    "    for idx, w in enumerate(words):\n",
    "        current_idx += len(w)\n",
    "        # Unless it's the last word, add a space\n",
    "        if idx < len(words) - 1:\n",
    "            current_idx += 1\n",
    "\n",
    "        w2 = w\n",
    "\n",
    "        if rnd.rand() < p:\n",
    "            # Pass as context the previous 2 characters in sent\n",
    "            start = max(0, current_idx - ng_size)\n",
    "            context = sent[start:current_idx]\n",
    "\n",
    "            w2 = get_best_variant(w, context=context, var_count=var_count)\n",
    "\n",
    "        output += f\"{w2} \"\n",
    "\n",
    "    return output.strip() # remove trailing whitespace"
   ]
  },
  {
   "cell_type": "code",
   "execution_count": 129,
   "metadata": {},
   "outputs": [
    {
     "data": {
      "text/plain": [
       "'hw is ti going big guqy'"
      ]
     },
     "execution_count": 129,
     "metadata": {},
     "output_type": "execute_result"
    }
   ],
   "source": [
    "alter_sentence(\"how is it going big guy\")"
   ]
  },
  {
   "cell_type": "code",
   "execution_count": 130,
   "metadata": {},
   "outputs": [],
   "source": [
    "data_altered = data.copy()"
   ]
  },
  {
   "cell_type": "code",
   "execution_count": 131,
   "metadata": {},
   "outputs": [],
   "source": [
    "data_altered[\"sents-alt\"] = data_altered[\"sentences\"].apply(alter_sentence)"
   ]
  },
  {
   "cell_type": "code",
   "execution_count": 132,
   "metadata": {},
   "outputs": [
    {
     "data": {
      "text/html": [
       "<div>\n",
       "<style scoped>\n",
       "    .dataframe tbody tr th:only-of-type {\n",
       "        vertical-align: middle;\n",
       "    }\n",
       "\n",
       "    .dataframe tbody tr th {\n",
       "        vertical-align: top;\n",
       "    }\n",
       "\n",
       "    .dataframe thead th {\n",
       "        text-align: right;\n",
       "    }\n",
       "</style>\n",
       "<table border=\"1\" class=\"dataframe\">\n",
       "  <thead>\n",
       "    <tr style=\"text-align: right;\">\n",
       "      <th></th>\n",
       "      <th>sentences</th>\n",
       "      <th>sents-alt</th>\n",
       "    </tr>\n",
       "  </thead>\n",
       "  <tbody>\n",
       "    <tr>\n",
       "      <th>14812</th>\n",
       "      <td>It's a popular song based off of something Rab...</td>\n",
       "      <td>It's ba poipular song besad off of something R...</td>\n",
       "    </tr>\n",
       "    <tr>\n",
       "      <th>18724</th>\n",
       "      <td>Tom is learning Krav Maga.</td>\n",
       "      <td>Tom is learning Mkrav Maga.</td>\n",
       "    </tr>\n",
       "    <tr>\n",
       "      <th>16937</th>\n",
       "      <td>You are welcome, Ravi.</td>\n",
       "      <td>You ae welcome, Rav.</td>\n",
       "    </tr>\n",
       "    <tr>\n",
       "      <th>7040</th>\n",
       "      <td>I'm named after my late grandfather.</td>\n",
       "      <td>'m named after my leta grandfatkher.</td>\n",
       "    </tr>\n",
       "    <tr>\n",
       "      <th>13170</th>\n",
       "      <td>Have you seen my highlighter?</td>\n",
       "      <td>Heva you yseen nmy highlighte?</td>\n",
       "    </tr>\n",
       "  </tbody>\n",
       "</table>\n",
       "</div>"
      ],
      "text/plain": [
       "                                               sentences  \\\n",
       "14812  It's a popular song based off of something Rab...   \n",
       "18724                         Tom is learning Krav Maga.   \n",
       "16937                             You are welcome, Ravi.   \n",
       "7040                I'm named after my late grandfather.   \n",
       "13170                      Have you seen my highlighter?   \n",
       "\n",
       "                                               sents-alt  \n",
       "14812  It's ba poipular song besad off of something R...  \n",
       "18724                        Tom is learning Mkrav Maga.  \n",
       "16937                               You ae welcome, Rav.  \n",
       "7040                'm named after my leta grandfatkher.  \n",
       "13170                     Heva you yseen nmy highlighte?  "
      ]
     },
     "execution_count": 132,
     "metadata": {},
     "output_type": "execute_result"
    }
   ],
   "source": [
    "data_altered.head()"
   ]
  }
 ],
 "metadata": {
  "kernelspec": {
   "display_name": "Python 3",
   "language": "python",
   "name": "python3"
  },
  "language_info": {
   "codemirror_mode": {
    "name": "ipython",
    "version": 3
   },
   "file_extension": ".py",
   "mimetype": "text/x-python",
   "name": "python",
   "nbconvert_exporter": "python",
   "pygments_lexer": "ipython3",
   "version": "3.11.4"
  }
 },
 "nbformat": 4,
 "nbformat_minor": 2
}
