{
 "cells": [
  {
   "cell_type": "code",
   "execution_count": null,
   "id": "d66c276b50f2a9dc",
   "metadata": {
    "collapsed": true,
    "ExecuteTime": {
     "end_time": "2023-11-07T12:01:58.697527900Z",
     "start_time": "2023-11-07T12:01:55.957398800Z"
    },
    "id": "d66c276b50f2a9dc"
   },
   "outputs": [],
   "source": [
    "\"\"\"\n",
    "Encoder-Decoder Sequence-to-Sequence Model for Machine Translation from aphasic to correct phrase in English\n",
    "authors:\n",
    "    Damiano Pasquini damiano23@ru.is\n",
    "    Andrea Terenziani andrea23@ru.is\n",
    "    Aurora Ayn Wickstrom aurora23@ru.is\n",
    "course: T-725-MALV, Málvinnsla\n",
    "\"\"\"\n",
    "\n",
    "import tensorflow as tf\n",
    "import numpy as np\n",
    "\n",
    "from keras.models import Model\n",
    "from keras.layers import Input, LSTM, Dense, Embedding, Reshape\n",
    "from keras.callbacks import Callback"
   ]
  },
  {
   "cell_type": "code",
   "execution_count": null,
   "outputs": [],
   "source": [
    "batch_size = 64  # Batch size for training.\n",
    "epochs = 20  # Number of epochs to train for.\n",
    "latent_dim = 400  # Latent dimensionality of the encoding space. before it was 256\n",
    "num_samples = 4000  # Number of samples to train on.\n",
    "embedding_dim = 100\n",
    "data_path = 'eng_sents_altered.txt' # Path to the data txt file on disk.\n",
    "max_input_sentence_length = 30\n",
    "max_target_sentence_length = 30 #TODO review"
   ],
   "metadata": {
    "ExecuteTime": {
     "end_time": "2023-11-07T12:01:58.704370700Z",
     "start_time": "2023-11-07T12:01:58.697527900Z"
    },
    "id": "initial_id"
   },
   "id": "initial_id"
  },
  {
   "cell_type": "code",
   "source": [
    "# if running on colab, mount drive\n",
    "from google.colab import drive\n",
    "drive.mount('/content/drive')"
   ],
   "metadata": {
    "colab": {
     "base_uri": "https://localhost:8080/"
    },
    "id": "wQr4LzgU7PHI",
    "outputId": "0552bc7d-a69e-4f7e-d8ff-d705a4c34b4b"
   },
   "id": "wQr4LzgU7PHI",
   "execution_count": null,
   "outputs": [
    {
     "output_type": "stream",
     "name": "stdout",
     "text": [
      "Drive already mounted at /content/drive; to attempt to forcibly remount, call drive.mount(\"/content/drive\", force_remount=True).\n"
     ]
    }
   ]
  },
  {
   "cell_type": "code",
   "execution_count": null,
   "outputs": [
    {
     "output_type": "stream",
     "name": "stdout",
     "text": [
      "Source Unique words:  7498\n",
      "Target Unique words 4103\n",
      "Number of samples: 4000\n",
      "Number of unique input char: 78\n",
      "Number of unique output char: 80\n",
      "Max sequence length for inputs: 33\n",
      "Max sequence length for outputs: 32\n"
     ]
    }
   ],
   "source": [
    "# Vectorize the data in one hot encoding\n",
    "input_texts = []\n",
    "target_texts = []\n",
    "input_characters = set()\n",
    "target_characters = set()\n",
    "input_tokens = set()\n",
    "target_tokens = set()\n",
    "lines = open(data_path).read().split('\\n')\n",
    "for line in lines[: min(num_samples, len(lines) - 1)]:\n",
    "    input_text, target_text = line.split('\\t')\n",
    "    # We use \"tab\" as the \"start sequence\" character\n",
    "    # for the targets, and \"\\n\" as \"end sequence\" character.\n",
    "    target_text = '\\t' + target_text + '\\n'\n",
    "    input_texts.append(input_text)\n",
    "    for word in input_text.split():\n",
    "        word = word.removesuffix(\".\").removesuffix(\",\").removesuffix(\";\").removesuffix(\":\").removesuffix(\"!\").removesuffix(\"?\").removesuffix(\"'\").removesuffix('\"').removeprefix(\"'\").removeprefix('\"')\n",
    "        input_tokens.add(word)\n",
    "    for word in target_text.split():\n",
    "        word = word.removesuffix(\".\").removesuffix(\",\").removesuffix(\";\").removesuffix(\":\").removesuffix(\"!\").removesuffix(\"?\").removesuffix(\"'\").removesuffix('\"').removeprefix(\"'\").removeprefix('\"')\n",
    "        target_tokens.add(word)\n",
    "    target_texts.append(target_text)\n",
    "    for char in input_text:\n",
    "        input_characters.add(char)\n",
    "    for char in target_text:\n",
    "        target_characters.add(char)\n",
    "\n",
    "input_characters = sorted(list(input_characters))\n",
    "target_characters = sorted(list(target_characters))\n",
    "num_encoder_tokens = len(input_characters)\n",
    "num_decoder_tokens = len(target_characters)\n",
    "max_encoder_seq_length = max([len(txt) for txt in input_texts])\n",
    "max_decoder_seq_length = max([len(txt) for txt in target_texts])\n",
    "\n",
    "input_token_index = dict(\n",
    "    [(char, i) for i, char in enumerate(input_characters)])\n",
    "target_token_index = dict(\n",
    "    [(char, i) for i, char in enumerate(target_characters)])\n",
    "\n",
    "encoder_input_data = np.zeros(\n",
    "    (len(input_texts), max_encoder_seq_length, num_encoder_tokens),\n",
    "    dtype='float32')\n",
    "decoder_input_data = np.zeros(\n",
    "    (len(input_texts), max_decoder_seq_length, num_decoder_tokens),\n",
    "    dtype='float32')\n",
    "decoder_target_data = np.zeros(\n",
    "    (len(input_texts), max_decoder_seq_length, num_decoder_tokens),\n",
    "    dtype='float32')\n",
    "\n",
    "for i, (input_text, target_text) in enumerate(zip(input_texts, target_texts)):\n",
    "    for t, char in enumerate(input_text):\n",
    "        encoder_input_data[i, t, input_token_index[char]] = 1.\n",
    "    for t, char in enumerate(target_text):\n",
    "        # decoder_target_data is ahead of decoder_input_data by one timestep\n",
    "        decoder_input_data[i, t, target_token_index[char]] = 1.\n",
    "        if t > 0:\n",
    "            # decoder_target_data will be ahead by one timestep\n",
    "            # and will not include the start character.\n",
    "            decoder_target_data[i, t - 1, target_token_index[char]] = 1."
   ],
   "metadata": {
    "ExecuteTime": {
     "end_time": "2023-11-07T12:01:59.489423700Z",
     "start_time": "2023-11-07T12:01:58.704370700Z"
    },
    "colab": {
     "base_uri": "https://localhost:8080/"
    },
    "id": "434612f2c601b2b",
    "outputId": "e22b7d23-32f0-4868-9659-bd0ebcecf50c"
   },
   "id": "434612f2c601b2b"
  },
  {
   "cell_type": "code",
   "source": [
    "print('Source Unique words: ', len(input_tokens))\n",
    "print('Target Unique words: ', len(target_tokens))\n",
    "print('Number of samples: ', len(input_texts))\n",
    "print('Number of unique input char:', num_encoder_tokens)\n",
    "print('Number of unique output char:', num_decoder_tokens)\n",
    "print('Max sequence length for inputs:', max_encoder_seq_length)\n",
    "print('Max sequence length for outputs:', max_decoder_seq_length)\n",
    "print()\n",
    "print(f\"Encoder input shape: {encoder_input_data.shape}\")\n",
    "print(f\"Decoder input shape: {decoder_input_data.shape}\")\n",
    "print(f\"Decoder target shape: {decoder_target_data.shape}\")"
   ],
   "metadata": {
    "colab": {
     "base_uri": "https://localhost:8080/"
    },
    "id": "NmawSTaWve7q",
    "outputId": "4e98553c-630e-4bd2-fcea-b3b1ddd144e8"
   },
   "id": "NmawSTaWve7q",
   "execution_count": null,
   "outputs": [
    {
     "output_type": "stream",
     "name": "stdout",
     "text": [
      "Source Unique words:  7498\n",
      "Target Unique words:  4103\n",
      "Number of samples:  4000\n",
      "Number of unique input char: 78\n",
      "Number of unique output char: 80\n",
      "Max sequence length for inputs: 33\n",
      "Max sequence length for outputs: 32\n",
      "\n",
      "Encoder input shape: (4000, 33, 78)\n",
      "Decoder input shape: (4000, 32, 80)\n",
      "Decoder target shape: (4000, 32, 80)\n"
     ]
    }
   ]
  },
  {
   "cell_type": "code",
   "execution_count": null,
   "outputs": [
    {
     "output_type": "stream",
     "name": "stdout",
     "text": [
      "Enncoder input shape: (None, 33, 78)\n",
      "Enncoder embed shape: (None, 2574, 100)\n",
      "Enncoder LSTM shape: (None, 2574, 400)\n",
      "Decoder input shape: (None, 32, 80)\n",
      "Decoder embed shape: (None, 2560, 100)\n",
      "Decoder LSTM shape: (None, 2560, 400)\n"
     ]
    }
   ],
   "source": [
    "from tensorflow.python.autograph.operators.py_builtins import max_\n",
    "\n",
    "# embedding_dim = 100\n",
    "\n",
    "# Encoder\n",
    "# dataset = tf.data.TextLineDataset(data_path)\n",
    "encoder_input_data = tf.squeeze(encoder_input_data)\n",
    "decoder_input_data = tf.squeeze(decoder_input_data)\n",
    "decoder_target_data = tf.squeeze(decoder_target_data)\n",
    "dataset = tf.data.Dataset.from_tensor_slices(((encoder_input_data, decoder_input_data), decoder_target_data))\n",
    "dataset = dataset.shuffle(buffer_size=1024).batch(batch_size)\n",
    "test_size = int(0.2 * num_samples)\n",
    "train_size = num_samples-test_size\n",
    "validation_size = int(0.1*train_size)\n",
    "train_size-=validation_size\n",
    "\n",
    "\n",
    "# Split the dataset\n",
    "train_dataset = dataset.take(train_size // batch_size)\n",
    "validation_dataset = dataset.skip(train_size // batch_size)\n",
    "testing_dataset = validation_dataset.skip(validation_size // batch_size)\n",
    "# validation_dataset = validation_dataset.take(validation_size // batch_size)\n",
    "\n",
    "encoder_inputs = Input(shape=(max_encoder_seq_length, num_encoder_tokens), name='input_1')\n",
    "print(f\"Enncoder input shape: {encoder_inputs.shape}\")\n",
    "\n",
    "encoder_reshape = Reshape(target_shape=(max_encoder_seq_length*num_encoder_tokens,), name=\"encoder_reshape\")(encoder_inputs)\n",
    "\n",
    "encoder_embedding = Embedding(input_dim=num_encoder_tokens, output_dim=embedding_dim, name='embedding_1')(encoder_reshape)\n",
    "print(f\"Enncoder embed shape: {encoder_embedding.shape}\")\n",
    "\n",
    "encoder_lstm, state_h, state_c = LSTM(latent_dim, return_state=True, name='lstm_1', return_sequences=True)(encoder_embedding)\n",
    "print(f\"Enncoder LSTM shape: {encoder_lstm.shape}\")\n",
    "\n",
    "encoder_states = [state_h, state_c]\n",
    "\n",
    "# Decoder\n",
    "decoder_inputs = Input(shape=(max_decoder_seq_length, num_decoder_tokens), name='input_2')\n",
    "print(f\"Decoder input shape: {decoder_inputs.shape}\")\n",
    "\n",
    "decoder_reshape = Reshape(target_shape=(max_decoder_seq_length * num_decoder_tokens,), name=\"decoder_reshape\")(decoder_inputs)\n",
    "\n",
    "decoder_embedding = Embedding(input_dim=max_decoder_seq_length, output_dim=embedding_dim, name='embedding_2')(decoder_reshape)\n",
    "print(f\"Decoder embed shape: {decoder_embedding.shape}\")\n",
    "\n",
    "decoder_lstm, _, _ = LSTM(latent_dim, return_state=True, name='lstm_2', return_sequences=True)(decoder_embedding, initial_state=encoder_states)\n",
    "print(f\"Decoder LSTM shape: {decoder_lstm.shape}\")\n",
    "\n",
    "decoder_outputs = Dense(len(target_tokens), activation='softmax', name='dense_1')(decoder_lstm)\n",
    "\n",
    "# Model\n",
    "model = Model(inputs=[encoder_inputs, decoder_inputs], outputs=decoder_outputs, name='seq2seq_model')"
   ],
   "metadata": {
    "ExecuteTime": {
     "end_time": "2023-11-07T12:01:59.886452300Z",
     "start_time": "2023-11-07T12:01:59.490514200Z"
    },
    "colab": {
     "base_uri": "https://localhost:8080/"
    },
    "id": "da00c92545bd3a7f",
    "outputId": "a9662c59-8ad0-4454-dae8-156b1197bff3"
   },
   "id": "da00c92545bd3a7f"
  },
  {
   "cell_type": "code",
   "source": [
    "model.summary()"
   ],
   "metadata": {
    "colab": {
     "base_uri": "https://localhost:8080/"
    },
    "id": "mEfpBk1ikMY0",
    "outputId": "928e8f75-8821-420d-83eb-a79a7585f5db"
   },
   "id": "mEfpBk1ikMY0",
   "execution_count": null,
   "outputs": [
    {
     "output_type": "stream",
     "name": "stdout",
     "text": [
      "Model: \"seq2seq_model\"\n",
      "__________________________________________________________________________________________________\n",
      " Layer (type)                Output Shape                 Param #   Connected to                  \n",
      "==================================================================================================\n",
      " input_1 (InputLayer)        [(None, 33, 78)]             0         []                            \n",
      "                                                                                                  \n",
      " input_2 (InputLayer)        [(None, 32, 80)]             0         []                            \n",
      "                                                                                                  \n",
      " encoder_reshape (Reshape)   (None, 2574)                 0         ['input_1[0][0]']             \n",
      "                                                                                                  \n",
      " decoder_reshape (Reshape)   (None, 2560)                 0         ['input_2[0][0]']             \n",
      "                                                                                                  \n",
      " embedding_1 (Embedding)     (None, 2574, 100)            7800      ['encoder_reshape[0][0]']     \n",
      "                                                                                                  \n",
      " embedding_2 (Embedding)     (None, 2560, 100)            3200      ['decoder_reshape[0][0]']     \n",
      "                                                                                                  \n",
      " lstm_1 (LSTM)               [(None, 2574, 400),          801600    ['embedding_1[0][0]']         \n",
      "                              (None, 400),                                                        \n",
      "                              (None, 400)]                                                        \n",
      "                                                                                                  \n",
      " lstm_2 (LSTM)               [(None, 2560, 400),          801600    ['embedding_2[0][0]',         \n",
      "                              (None, 400),                           'lstm_1[0][1]',              \n",
      "                              (None, 400)]                           'lstm_1[0][2]']              \n",
      "                                                                                                  \n",
      " dense_1 (Dense)             (None, 2560, 4103)           1645303   ['lstm_2[0][0]']              \n",
      "                                                                                                  \n",
      "==================================================================================================\n",
      "Total params: 3259503 (12.43 MB)\n",
      "Trainable params: 3259503 (12.43 MB)\n",
      "Non-trainable params: 0 (0.00 Byte)\n",
      "__________________________________________________________________________________________________\n"
     ]
    }
   ]
  },
  {
   "cell_type": "code",
   "source": [
    "!pip install graphviz"
   ],
   "metadata": {
    "colab": {
     "base_uri": "https://localhost:8080/"
    },
    "id": "uDo5DpGpEgub",
    "outputId": "ca7ae737-0c5d-4765-f668-371be416f66c"
   },
   "id": "uDo5DpGpEgub",
   "execution_count": null,
   "outputs": [
    {
     "output_type": "stream",
     "name": "stdout",
     "text": [
      "Requirement already satisfied: graphviz in /usr/local/lib/python3.10/dist-packages (0.20.1)\n"
     ]
    }
   ]
  },
  {
   "cell_type": "code",
   "source": [
    "from keras.utils import plot_model\n",
    "\n",
    "plot_model(model, show_layer_names=True, show_shapes=True)"
   ],
   "metadata": {
    "colab": {
     "base_uri": "https://localhost:8080/",
     "height": 644
    },
    "id": "bJksqzrrEUgo",
    "outputId": "38a9fc8a-4e91-4186-d7ad-02446385b4d3"
   },
   "id": "bJksqzrrEUgo",
   "execution_count": null,
   "outputs": [
    {
     "output_type": "execute_result",
     "data": {
      "image/png": "[encoded data removed]",
      "text/plain": [
       "<IPython.core.display.Image object>"
      ]
     },
     "metadata": {},
     "execution_count": 215
    }
   ]
  },
  {
   "cell_type": "code",
   "source": [
    "class LogCallback(Callback):\n",
    "    def on_train_begin(self, logs=None):\n",
    "        keys = list(logs.keys())\n",
    "        print(\"Starting training; got log keys: {}\".format(keys))\n",
    "\n",
    "    def on_train_end(self, logs=None):\n",
    "        keys = list(logs.keys())\n",
    "        print(\"Stop training; got log keys: {}\".format(keys))\n",
    "\n",
    "    def on_step_begin(self, step, logs):\n",
    "        print(f\"APAPAPAPAPAPA {step}\")"
   ],
   "metadata": {
    "id": "Lhh83ur26L4O"
   },
   "id": "Lhh83ur26L4O",
   "execution_count": null,
   "outputs": []
  },
  {
   "cell_type": "code",
   "execution_count": null,
   "outputs": [],
   "source": [
    "# Run training\n",
    "model.compile(optimizer='adagrad', loss='categorical_crossentropy')"
   ],
   "metadata": {
    "ExecuteTime": {
     "end_time": "2023-11-07T12:41:39.947790500Z",
     "start_time": "2023-11-07T12:01:59.886452300Z"
    },
    "id": "9e7e61f7ddd614b2"
   },
   "id": "9e7e61f7ddd614b2"
  },
  {
   "cell_type": "code",
   "source": [
    "print(encoder_input_data.shape)\n",
    "print(decoder_input_data.shape)\n",
    "\n",
    "\n",
    "# [encoder_input_data, decoder_input_data]\n",
    "model.fit(train_dataset,\n",
    "          epochs=epochs,\n",
    "          batch_size=64,\n",
    "          validation_data=validation_dataset,\n",
    "          callbacks=[LogCallback()])\n",
    "# Save model\n",
    "model.save('s2s.h5')"
   ],
   "metadata": {
    "colab": {
     "base_uri": "https://localhost:8080/",
     "height": 877
    },
    "id": "IS_AAi7v_ulr",
    "outputId": "0a137555-4358-4ba5-a000-4f3d28088511"
   },
   "id": "IS_AAi7v_ulr",
   "execution_count": null,
   "outputs": [
    {
     "output_type": "stream",
     "name": "stdout",
     "text": [
      "(4000, 33, 78)\n",
      "(4000, 32, 80)\n",
      "Starting training; got log keys: []\n",
      "Epoch 1/20\n"
     ]
    },
    {
     "output_type": "error",
     "ename": "ValueError",
     "evalue": "ignored",
     "traceback": [
      "\u001B[0;31m---------------------------------------------------------------------------\u001B[0m",
      "\u001B[0;31mValueError\u001B[0m                                Traceback (most recent call last)",
      "\u001B[0;32m<ipython-input-206-27d63f2b9f15>\u001B[0m in \u001B[0;36m<cell line: 6>\u001B[0;34m()\u001B[0m\n\u001B[1;32m      4\u001B[0m \u001B[0;34m\u001B[0m\u001B[0m\n\u001B[1;32m      5\u001B[0m \u001B[0;31m# [encoder_input_data, decoder_input_data]\u001B[0m\u001B[0;34m\u001B[0m\u001B[0;34m\u001B[0m\u001B[0m\n\u001B[0;32m----> 6\u001B[0;31m model.fit(train_dataset,\n\u001B[0m\u001B[1;32m      7\u001B[0m           \u001B[0mepochs\u001B[0m\u001B[0;34m=\u001B[0m\u001B[0mepochs\u001B[0m\u001B[0;34m,\u001B[0m\u001B[0;34m\u001B[0m\u001B[0;34m\u001B[0m\u001B[0m\n\u001B[1;32m      8\u001B[0m           \u001B[0mbatch_size\u001B[0m\u001B[0;34m=\u001B[0m\u001B[0;36m64\u001B[0m\u001B[0;34m,\u001B[0m\u001B[0;34m\u001B[0m\u001B[0;34m\u001B[0m\u001B[0m\n",
      "\u001B[0;32m/usr/local/lib/python3.10/dist-packages/keras/src/utils/traceback_utils.py\u001B[0m in \u001B[0;36merror_handler\u001B[0;34m(*args, **kwargs)\u001B[0m\n\u001B[1;32m     68\u001B[0m             \u001B[0;31m# To get the full stack trace, call:\u001B[0m\u001B[0;34m\u001B[0m\u001B[0;34m\u001B[0m\u001B[0m\n\u001B[1;32m     69\u001B[0m             \u001B[0;31m# `tf.debugging.disable_traceback_filtering()`\u001B[0m\u001B[0;34m\u001B[0m\u001B[0;34m\u001B[0m\u001B[0m\n\u001B[0;32m---> 70\u001B[0;31m             \u001B[0;32mraise\u001B[0m \u001B[0me\u001B[0m\u001B[0;34m.\u001B[0m\u001B[0mwith_traceback\u001B[0m\u001B[0;34m(\u001B[0m\u001B[0mfiltered_tb\u001B[0m\u001B[0;34m)\u001B[0m \u001B[0;32mfrom\u001B[0m \u001B[0;32mNone\u001B[0m\u001B[0;34m\u001B[0m\u001B[0;34m\u001B[0m\u001B[0m\n\u001B[0m\u001B[1;32m     71\u001B[0m         \u001B[0;32mfinally\u001B[0m\u001B[0;34m:\u001B[0m\u001B[0;34m\u001B[0m\u001B[0;34m\u001B[0m\u001B[0m\n\u001B[1;32m     72\u001B[0m             \u001B[0;32mdel\u001B[0m \u001B[0mfiltered_tb\u001B[0m\u001B[0;34m\u001B[0m\u001B[0;34m\u001B[0m\u001B[0m\n",
      "\u001B[0;32m/usr/local/lib/python3.10/dist-packages/keras/src/engine/training.py\u001B[0m in \u001B[0;36mtf__train_function\u001B[0;34m(iterator)\u001B[0m\n\u001B[1;32m     13\u001B[0m                 \u001B[0;32mtry\u001B[0m\u001B[0;34m:\u001B[0m\u001B[0;34m\u001B[0m\u001B[0;34m\u001B[0m\u001B[0m\n\u001B[1;32m     14\u001B[0m                     \u001B[0mdo_return\u001B[0m \u001B[0;34m=\u001B[0m \u001B[0;32mTrue\u001B[0m\u001B[0;34m\u001B[0m\u001B[0;34m\u001B[0m\u001B[0m\n\u001B[0;32m---> 15\u001B[0;31m                     \u001B[0mretval_\u001B[0m \u001B[0;34m=\u001B[0m \u001B[0mag__\u001B[0m\u001B[0;34m.\u001B[0m\u001B[0mconverted_call\u001B[0m\u001B[0;34m(\u001B[0m\u001B[0mag__\u001B[0m\u001B[0;34m.\u001B[0m\u001B[0mld\u001B[0m\u001B[0;34m(\u001B[0m\u001B[0mstep_function\u001B[0m\u001B[0;34m)\u001B[0m\u001B[0;34m,\u001B[0m \u001B[0;34m(\u001B[0m\u001B[0mag__\u001B[0m\u001B[0;34m.\u001B[0m\u001B[0mld\u001B[0m\u001B[0;34m(\u001B[0m\u001B[0mself\u001B[0m\u001B[0;34m)\u001B[0m\u001B[0;34m,\u001B[0m \u001B[0mag__\u001B[0m\u001B[0;34m.\u001B[0m\u001B[0mld\u001B[0m\u001B[0;34m(\u001B[0m\u001B[0miterator\u001B[0m\u001B[0;34m)\u001B[0m\u001B[0;34m)\u001B[0m\u001B[0;34m,\u001B[0m \u001B[0;32mNone\u001B[0m\u001B[0;34m,\u001B[0m \u001B[0mfscope\u001B[0m\u001B[0;34m)\u001B[0m\u001B[0;34m\u001B[0m\u001B[0;34m\u001B[0m\u001B[0m\n\u001B[0m\u001B[1;32m     16\u001B[0m                 \u001B[0;32mexcept\u001B[0m\u001B[0;34m:\u001B[0m\u001B[0;34m\u001B[0m\u001B[0;34m\u001B[0m\u001B[0m\n\u001B[1;32m     17\u001B[0m                     \u001B[0mdo_return\u001B[0m \u001B[0;34m=\u001B[0m \u001B[0;32mFalse\u001B[0m\u001B[0;34m\u001B[0m\u001B[0;34m\u001B[0m\u001B[0m\n",
      "\u001B[0;31mValueError\u001B[0m: in user code:\n\n    File \"/usr/local/lib/python3.10/dist-packages/keras/src/engine/training.py\", line 1377, in train_function  *\n        return step_function(self, iterator)\n    File \"/usr/local/lib/python3.10/dist-packages/keras/src/engine/training.py\", line 1360, in step_function  **\n        outputs = model.distribute_strategy.run(run_step, args=(data,))\n    File \"/usr/local/lib/python3.10/dist-packages/keras/src/engine/training.py\", line 1349, in run_step  **\n        outputs = model.train_step(data)\n    File \"/usr/local/lib/python3.10/dist-packages/keras/src/engine/training.py\", line 1127, in train_step\n        loss = self.compute_loss(x, y, y_pred, sample_weight)\n    File \"/usr/local/lib/python3.10/dist-packages/keras/src/engine/training.py\", line 1185, in compute_loss\n        return self.compiled_loss(\n    File \"/usr/local/lib/python3.10/dist-packages/keras/src/engine/compile_utils.py\", line 277, in __call__\n        loss_value = loss_obj(y_t, y_p, sample_weight=sw)\n    File \"/usr/local/lib/python3.10/dist-packages/keras/src/losses.py\", line 143, in __call__\n        losses = call_fn(y_true, y_pred)\n    File \"/usr/local/lib/python3.10/dist-packages/keras/src/losses.py\", line 270, in call  **\n        return ag_fn(y_true, y_pred, **self._fn_kwargs)\n    File \"/usr/local/lib/python3.10/dist-packages/keras/src/losses.py\", line 2221, in categorical_crossentropy\n        return backend.categorical_crossentropy(\n    File \"/usr/local/lib/python3.10/dist-packages/keras/src/backend.py\", line 5575, in categorical_crossentropy\n        target.shape.assert_is_compatible_with(output.shape)\n\n    ValueError: Shapes (None, 32, 80) and (None, 2560, 4103) are incompatible\n"
     ]
    }
   ]
  },
  {
   "cell_type": "code",
   "execution_count": null,
   "outputs": [],
   "source": [
    "\n",
    "# Next: inference mode (sampling).\n",
    "# Here's the drill:\n",
    "# 1) encode input and retrieve initial decoder state\n",
    "# 2) run one step of decoder with this initial state\n",
    "# and a \"start of sequence\" token as target.\n",
    "# Output will be the next target token\n",
    "# 3) Repeat with the current target token and current states\n",
    "\n",
    "# Define sampling models\n",
    "encoder_model = Model(encoder_inputs, encoder_states)\n",
    "\n",
    "decoder_state_input_h = Input(shape=(latent_dim,))\n",
    "decoder_state_input_c = Input(shape=(latent_dim,))\n",
    "decoder_states_inputs = [decoder_state_input_h, decoder_state_input_c]\n",
    "decoder_outputs, state_h, state_c = decoder_lstm(\n",
    "    decoder_inputs, initial_state=decoder_states_inputs)\n",
    "decoder_states = [state_h, state_c]\n",
    "decoder_outputs = decoder_dense(decoder_outputs)\n",
    "decoder_model = Model(\n",
    "    [decoder_inputs] + decoder_states_inputs,\n",
    "    [decoder_outputs] + decoder_states)\n",
    "\n",
    "# Reverse-lookup token index to decode sequences back to\n",
    "# something readable.\n",
    "reverse_input_char_index = dict(\n",
    "    (i, char) for char, i in input_token_index.items())\n",
    "reverse_target_char_index = dict(\n",
    "    (i, char) for char, i in target_token_index.items())\n",
    "\n",
    "\n",
    "def decode_sequence(input_seq):\n",
    "    # Encode the input as state vectors.\n",
    "    states_value = encoder_model.predict(input_seq)\n",
    "\n",
    "    # Generate empty target sequence of length 1.\n",
    "    target_seq = np.zeros((1, 1, num_decoder_tokens))\n",
    "    # Populate the first character of target sequence with the start character.\n",
    "    target_seq[0, 0, target_token_index['\\t']] = 1.\n",
    "\n",
    "    # Sampling loop for a batch of sequences\n",
    "    # (to simplify, here we assume a batch of size 1).\n",
    "    stop_condition = False\n",
    "    decoded_sentence = ''\n",
    "    while not stop_condition:\n",
    "        output_tokens, h, c = decoder_model.predict(\n",
    "            [target_seq] + states_value)\n",
    "\n",
    "        # Sample a token\n",
    "        sampled_token_index = np.argmax(output_tokens[0, -1, :])\n",
    "        sampled_char = reverse_target_char_index[sampled_token_index]\n",
    "        decoded_sentence += sampled_char\n",
    "\n",
    "        # Exit condition: either hit max length\n",
    "        # or find stop character.\n",
    "        if (sampled_char == '\\n' or\n",
    "           len(decoded_sentence) > max_decoder_seq_length):\n",
    "            stop_condition = True\n",
    "\n",
    "        # Update the target sequence (of length 1).\n",
    "        target_seq = np.zeros((1, 1, num_decoder_tokens))\n",
    "        target_seq[0, 0, sampled_token_index] = 1.\n",
    "\n",
    "        # Update states\n",
    "        states_value = [h, c]\n",
    "\n",
    "    return decoded_sentence\n",
    "\n",
    "\n",
    "for seq_index in range(100):\n",
    "    # Take one sequence (part of the training test)\n",
    "    # for trying out decoding.\n",
    "    input_seq = encoder_input_data[seq_index: seq_index + 1]\n",
    "    decoded_sentence = decode_sequence(input_seq)\n",
    "    print('-')\n",
    "    print('Input sentence:', input_texts[seq_index])\n",
    "    print('Decoded sentence:', decoded_sentence)"
   ],
   "metadata": {
    "ExecuteTime": {
     "end_time": "2023-11-07T12:41:39.954789800Z",
     "start_time": "2023-11-07T12:41:39.950788400Z"
    },
    "id": "214a644a2e20a837"
   },
   "id": "214a644a2e20a837"
  }
 ],
 "metadata": {
  "kernelspec": {
   "display_name": "Python 3",
   "name": "python3"
  },
  "language_info": {
   "codemirror_mode": {
    "name": "ipython",
    "version": 2
   },
   "file_extension": ".py",
   "mimetype": "text/x-python",
   "name": "python",
   "nbconvert_exporter": "python",
   "pygments_lexer": "ipython2",
   "version": "2.7.6"
  },
  "colab": {
   "provenance": [],
   "gpuType": "T4"
  },
  "accelerator": "GPU"
 },
 "nbformat": 4,
 "nbformat_minor": 5
}
